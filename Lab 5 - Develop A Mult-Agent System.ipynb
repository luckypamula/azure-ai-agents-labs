{
 "cells": [
  {
   "cell_type": "markdown",
   "metadata": {},
   "source": [
    "# Lab 5: Develop a Multi-Agent System\n",
    "\n",
    "In this lab, we build a modern, production-ready multi-agent system using the latest Azure AI Python SDKs and best practices (as of mid-2025).\n",
    "- Each agent is created as a connected agent using Azure AI Agent Service.\n",
    "- Orchestration is performed using direct agent-to-agent calls, not just a group chat or plugin pattern.\n",
    "- Uses official Microsoft documentation patterns for agent creation, tool/resource registration, and message passing.\n",
    "\n",
    "The multi-agent system we create will consist of 3 agents that work together to generate detailed reports about health insurance policy documents, brought together using orchestration logic:\n",
    "\n",
    "1. Search Agent - This agent will search our Azure AI Search index for information about specific health plan policies.\n",
    "2. Report Agent - This agent will generate a detailed report about the health plan policy based on the information returned from the Search Agent.\n",
    "3. Validation Agent - This agent will validate that the generated report meets specified requirements. In our case, making sure that the report contains information about coverage exclusions.\n",
    "4. Orchestrator logic - we use direct orchestration logic written in Python to coordinate the three agents (Search, Report, Validation) using the Azure AI Agent Service SDK.\n",
    "\n",
    "Orchestration is a key part of multi-agentic systems since the agents that we create need to be able to communicate with each other in order to accomplish the objective. \n",
    "\n",
    "We'll use the Azure AI Agent Service not only to create the Search, Report, and Validation agents, but also to build our orchestration logic! At Microsoft Build 2025, Microsoft announced that the Azure AI Agent Service SDK now supports multi-agent capabilities natively. This means you can create, connect, and orchestrate multiple agents directly using the SDK, without needing Semantic Kernel or a dedicated Orchestrator Agent. The SDK provides official patterns for agent creation, tool/resource registration, and agent-to-agent communication, enabling more flexible and production-ready multi-agent systems.\n",
    "\n",
    "![Sample Photo](images/logical-flow.jpg)\n"
   ]
  },
  {
   "cell_type": "markdown",
   "metadata": {},
   "source": [
    "### Part 1: Create the Search, Report, and Validation Agents"
   ]
  },
  {
   "cell_type": "markdown",
   "metadata": {},
   "source": [
    "#### Step 1: Load packages"
   ]
  },
  {
   "cell_type": "code",
   "execution_count": 1,
   "metadata": {},
   "outputs": [
    {
     "data": {
      "text/plain": [
       "True"
      ]
     },
     "execution_count": 1,
     "metadata": {},
     "output_type": "execute_result"
    }
   ],
   "source": [
    "import os\n",
    "import json\n",
    "from dotenv import load_dotenv\n",
    "from azure.identity import DefaultAzureCredential\n",
    "from azure.ai.projects import AIProjectClient\n",
    "from azure.ai.agents.models import (\n",
    "    AzureAISearchToolDefinition, AzureAISearchToolResource, AISearchIndexResource, ToolResources, AgentThreadCreationOptions\n",
    ")\n",
    "\n",
    "# Load environment variables\n",
    "load_dotenv()"
   ]
  },
  {
   "cell_type": "markdown",
   "metadata": {},
   "source": [
    "#### Step 2: Connect to your Azure AI Foundry Project"
   ]
  },
  {
   "cell_type": "code",
   "execution_count": 2,
   "metadata": {},
   "outputs": [],
   "source": [
    "# Connecting to our Azure AI Foundry project\n",
    "project = AIProjectClient(\n",
    "    endpoint=os.getenv(\"AIPROJECT_ENDPOINT\"),\n",
    "    credential=DefaultAzureCredential()\n",
    ")"
   ]
  },
  {
   "cell_type": "markdown",
   "metadata": {},
   "source": [
    "#### Step 3: Connect to Azure AI Search"
   ]
  },
  {
   "cell_type": "code",
   "execution_count": 3,
   "metadata": {},
   "outputs": [
    {
     "name": "stdout",
     "output_type": "stream",
     "text": [
      "my-index\n"
     ]
    }
   ],
   "source": [
    "# First enter the name of your search index\n",
    "\n",
    "index_name=\"<my-index-name>\"\n",
    "print(index_name)"
   ]
  },
  {
   "cell_type": "code",
   "execution_count": 4,
   "metadata": {},
   "outputs": [],
   "source": [
    "# Find Azure Cognitive Search connection\n",
    "conn_id = None\n",
    "for conn in project.connections.list():\n",
    "    if getattr(conn, \"type\", None) == \"CognitiveSearch\":\n",
    "        conn_id = conn.id\n",
    "        break\n",
    "if not conn_id:\n",
    "    raise ValueError(\"No Azure Cognitive Search connection found in this project.\")\n",
    "\n",
    "# Define Azure AI Search tool and resources\n",
    "ai_search_tool = AzureAISearchToolDefinition()\n",
    "ai_search_resource = AzureAISearchToolResource(\n",
    "    index_list=[\n",
    "        AISearchIndexResource(\n",
    "            index_connection_id=conn_id,\n",
    "            index_name=index_name # Be sure to set your index name above\n",
    "        )\n",
    "    ]\n",
    ")\n",
    "tool_resources = ToolResources(azure_ai_search=ai_search_resource)"
   ]
  },
  {
   "cell_type": "markdown",
   "metadata": {},
   "source": [
    "#### Step 4: Create the Search Agent\n",
    "To create the Search Agent, we use the Azure AI Agent Service SDK to define a dedicated agent that specializes in searching our Azure AI Search index for health plan documents."
   ]
  },
  {
   "cell_type": "code",
   "execution_count": 5,
   "metadata": {},
   "outputs": [],
   "source": [
    "# Search Agent\n",
    "search_agent = project.agents.create_agent(\n",
    "    model=\"gpt-4o\",\n",
    "    name=\"search-agent\",\n",
    "    instructions=\"You are a helpful agent that is an expert at searching health plan documents.\",\n",
    "    tools=[ai_search_tool],\n",
    "    tool_resources=tool_resources\n",
    ")"
   ]
  },
  {
   "cell_type": "markdown",
   "metadata": {},
   "source": [
    "#### Step 5: Create the Report Agent\n",
    "Similarly, to create the Report Agent, we use the Azure AI Agent Service SDK to define an agent dedicated to generating detailed reports about health plans. This agent is configured with a specialized system prompt and can be easily orchestrated alongside other agents in the workflow."
   ]
  },
  {
   "cell_type": "code",
   "execution_count": 6,
   "metadata": {},
   "outputs": [],
   "source": [
    "# Report Agent\n",
    "report_agent = project.agents.create_agent(\n",
    "    model=\"gpt-4o\",\n",
    "    name=\"report-agent\",\n",
    "    instructions=\"You are a helpful agent that writes detailed reports about health plans.\"\n",
    ")"
   ]
  },
  {
   "cell_type": "markdown",
   "metadata": {},
   "source": [
    "#### Step 6: Create the Validation Agent\n",
    "To create the Validation Agent, we again use the Azure AI Agent Service SDK to define an agent focused on validating that generated reports meet specific requirements. The Validation Agent is configured with instructions to check for required content (such as coverage exclusions) and to return a simple pass/fail result. This agent can be invoked programmatically as part of the multi-agent workflow, ensuring that all generated reports adhere to business rules before being delivered to the user."
   ]
  },
  {
   "cell_type": "code",
   "execution_count": 7,
   "metadata": {},
   "outputs": [],
   "source": [
    "# Validation Agent\n",
    "validation_agent = project.agents.create_agent(\n",
    "    model=\"gpt-4o\",\n",
    "    name=\"validation-agent\",\n",
    "    instructions=\"You are a helpful agent that validates reports. Return 'Pass' if the report meets requirements (must include coverage exclusions), otherwise return 'Fail'. Only return 'Pass' or 'Fail'.\"\n",
    ")"
   ]
  },
  {
   "cell_type": "markdown",
   "metadata": {},
   "source": [
    "### Part 2: Orchestrate the Multi-Agent System\n",
    "\n",
    "With our Search, Report, and Validation agents created, we can now orchestrate them together to build a collaborative multi-agent system. Using the Azure AI Agent Service SDK, we coordinate the agents programmatically in Python: the Search Agent retrieves health plan information, the Report Agent generates a detailed report, and the Validation Agent ensures the report meets required criteria (such as including coverage exclusions).\n",
    "\n",
    "This orchestration logic is implemented directly in Python, following the latest best practices for multi-agent systems on Azure. The workflow is modular, transparent, and easy to extend—each agent performs a focused task, and the orchestration code manages the flow of information and validation between them. This approach enables robust, production-ready solutions that can be adapted to a wide range of enterprise scenarios.\n",
    "\n",
    "Run the cell, and then type and enter the health plan you would like a report generated for (e.g., 'Northwind Standard', 'Northwind Health Plus') in the input box at the top:\n",
    "\n",
    "![Sample Photo](images/multi-agent-interact.jpg)\n",
    "\n",
    "\n",
    "If successful, you will see the reports your agent generated saved like this:\n",
    "\n",
    "![Sample Photo](images/reports.jpg)\n",
    "\n",
    "Once you are done generating report(s), enter 'exit' at the top. This will stop the process and delete your agents.\n",
    "\n",
    "![Sample Photo](images/multi-agent-exit.jpg)"
   ]
  },
  {
   "cell_type": "markdown",
   "metadata": {},
   "source": [
    "The orchestration code below...\n",
    "- Defines an `orchestrate` function to coordinate the multi-agent workflow for a given health plan name:\n",
    "  - The Search Agent retrieves information about the specified health plan from Azure AI Search.\n",
    "  - The Report Agent generates a detailed report using the information returned by the Search Agent.\n",
    "  - The Validation Agent checks that the report includes required content (coverage exclusions) and returns 'Pass' or 'Fail'.\n",
    "  - If validation passes, the report is saved to a markdown file; otherwise, a message is printed indicating the report did not meet requirements.\n",
    "- Defines a helper function to extract the last agent/assistant message from a list of messages.\n",
    "- Provides a command-line interface to interactively enter health plan names, generate reports, and exit the system.\n",
    "- Cleans up by deleting all agents when finished."
   ]
  },
  {
   "cell_type": "code",
   "execution_count": null,
   "metadata": {},
   "outputs": [
    {
     "name": "stdout",
     "output_type": "stream",
     "text": [
      "Welcome to the Health Plan Multi-Agent System!\n"
     ]
    },
    {
     "name": "stdout",
     "output_type": "stream",
     "text": [
      "Report generated and saved to northwind standard Report.md.\n",
      "{\n",
      "  \"report_was_generated\": true,\n",
      "  \"content\": \"### Detailed Report on the Northwind Standard Health Insurance Plan\\n\\n#### Overview\\nThe Northwind Standard plan is a comprehensive health insurance offering that provides extensive coverage across medical, vision, and dental services. The plan is designed to cater to a broad spectrum of healthcare needs, emphasizing preventive care and efficient management of prescription drugs. Subscribers of this plan have access to a wide array of in-network healthcare providers, ensuring choices among primary care physicians, specialists, hospitals, and pharmacies.\\n\\n#### Coverage Components\\n\\n1. **Medical Services**: \\n   - **Preventive Care**: The plan covers a full range of preventive services, ensuring access to routine check-ups, vaccinations, screenings, and other preventive measures without additional costs.\\n   - **In-Network Providers**: Choosing in-network services facilitates lower out-of-pocket expenses and streamlined approvals for covered treatments.\\n\\n2. **Vision Services**: \\n   - Coverage includes regular eye exams and possibly discounts or allowances towards eyewear, enhancing eye health maintenance.\\n\\n3. **Dental Services**: \\n   - Basic dental care is included, covering routine check-ups, cleanings, and possibly more extensive dental work, depending on the specifics outlined by the plan.\\n\\n4. **Prescription Drug Coverage**: \\n   - Comprehensive drug coverage is part of the plan, making medications more affordable when purchased through in-network pharmacies.\\n\\n#### Coverage Exclusions\\nDespite its comprehensive nature, the Northwind Standard plan does have notable exclusions:\\n\\n1. **Emergency Services**: \\n   - Urgent or emergency care services, typically vital services in unforeseen circumstances, are not covered. Enrollees will need to bear full costs for any emergency care sought.\\n\\n2. **Mental Health and Substance Abuse Services**: \\n   - This exclusion poses a significant limitation as it omits coverage for psychiatric services, counseling, and treatments related to substance abuse.\\n\\n3. **Out-of-Network Services**: \\n   - Services obtained from providers who are not part of the plan\\u2019s network are not covered. This necessitates careful selection of in-network providers to take full advantage of the plan.\\n\\n4. **Cosmetic Services**: \\n   - Any surgeries or treatments strictly for cosmetic purposes are not included in the coverage, reinforcing the plan\\u2019s focus on medically necessary interventions.\\n\\n5. **Non-Medically Necessary Services**: \\n   - Procedures or treatments not classified as medically essential are excluded from coverage under this plan.\\n\\n#### Utilization Recommendations\\nTo maximize the benefits and manage costs effectively under the Northwind Standard plan, it is advisable to:\\n\\n- **Utilize In-Network Providers**: Engaging services from in-network providers ensures that treatment costs are lower, and coverage terms are optimally met.\\n  \\n- **Leverage Available Tools**: Utilize the cost estimator tool and provider directory offered by the plan. These resources help in planning healthcare visits and services, projecting costs, and ensuring provider compatibility.\\n\\n- **Stay Informed About Coverage**: Keeping abreast with the policy details and updates ensures that one is aware of the coverage limitations and conditions, preventing unexpected expenses.\\n\\n#### Conclusion\\nThe Northwind Standard plan offers robust healthcare coverage for essential medical, vision, and dental needs, positioning itself as an attractive option for those prioritizing preventive care and prescription management. However, its exclusion of emergency, mental health services, and out-of-network care necessitates careful planning and consideration, especially for individuals with specific healthcare needs beyond basic preventive and standard care. Subscribers must engage with in-network providers and use provided plan resources to maximize benefits effectively.\"\n",
      "}\n",
      "Agents deleted. Goodbye!\n"
     ]
    }
   ],
   "source": [
    "def orchestrate(plan_name: str):\n",
    "    # 1. Search Agent retrieves plan info\n",
    "    search_thread_opts = AgentThreadCreationOptions(\n",
    "        messages=[{\"role\": \"user\", \"content\": f\"Tell me about the {plan_name} plan.\"}],\n",
    "        tool_resources=tool_resources\n",
    "    )\n",
    "    search_run = project.agents.create_thread_and_process_run(\n",
    "        agent_id=search_agent.id,\n",
    "        thread=search_thread_opts\n",
    "    )\n",
    "    if search_run.status == \"failed\":\n",
    "        raise RuntimeError(f\"Search agent run failed: {search_run.last_error}\")\n",
    "    search_msgs = project.agents.messages.list(thread_id=search_run.thread_id)\n",
    "    plan_info = extract_last_agent_message(search_msgs)\n",
    "\n",
    "    # 2. Report Agent writes the report\n",
    "    report_thread_opts = AgentThreadCreationOptions(\n",
    "        messages=[{\"role\": \"user\", \"content\": f\"Write a detailed report about the {plan_name} plan. Include coverage exclusions. Here is the relevant information: {plan_info}\"}]\n",
    "    )\n",
    "    report_run = project.agents.create_thread_and_process_run(\n",
    "        agent_id=report_agent.id,\n",
    "        thread=report_thread_opts\n",
    "    )\n",
    "    if report_run.status == \"failed\":\n",
    "        raise RuntimeError(f\"Report agent run failed: {report_run.last_error}\")\n",
    "    report_msgs = project.agents.messages.list(thread_id=report_run.thread_id)\n",
    "    report_content = extract_last_agent_message(report_msgs)\n",
    "\n",
    "    # 3. Validation Agent checks the report\n",
    "    validation_thread_opts = AgentThreadCreationOptions(\n",
    "        messages=[{\"role\": \"user\", \"content\": f\"Validate that the following report includes coverage exclusions. Here is the report: {report_content}\"}]\n",
    "    )\n",
    "    validation_run = project.agents.create_thread_and_process_run(\n",
    "        agent_id=validation_agent.id,\n",
    "        thread=validation_thread_opts\n",
    "    )\n",
    "    if validation_run.status == \"failed\":\n",
    "        raise RuntimeError(f\"Validation agent run failed: {validation_run.last_error}\")\n",
    "    validation_msgs = project.agents.messages.list(thread_id=validation_run.thread_id)\n",
    "    validation_result = extract_last_agent_message(validation_msgs)\n",
    "\n",
    "    # 4. Output result\n",
    "    if validation_result.strip().lower() == \"pass\":\n",
    "        filename = f\"{plan_name} Report.md\"\n",
    "        with open(filename, \"w\", encoding=\"utf-8\") as f:\n",
    "            f.write(report_content)\n",
    "        print(f\"Report generated and saved to {filename}.\")\n",
    "        return {\"report_was_generated\": True, \"content\": report_content}\n",
    "    else:\n",
    "        print(\"Report did not meet validation requirements.\")\n",
    "        return {\"report_was_generated\": False, \"content\": \"The report could not be generated as it did not meet the required validation standards.\"}\n",
    "\n",
    "def extract_last_agent_message(messages):\n",
    "    # Helper to extract the last agent/assistant message's text\n",
    "    last_msg = None\n",
    "    for msg in reversed(list(messages)):\n",
    "        role = getattr(msg, \"role\", None)\n",
    "        if role and (\"agent\" in role.lower() or \"assistant\" in role.lower()):\n",
    "            last_msg = msg\n",
    "            break\n",
    "    if last_msg and getattr(last_msg, \"content\", None) and isinstance(last_msg.content, list):\n",
    "        for part in last_msg.content:\n",
    "            if part.get(\"type\") == \"text\" and \"text\" in part and \"value\" in part[\"text\"]:\n",
    "                return part[\"text\"][\"value\"]\n",
    "    return \"\"\n",
    "\n",
    "if __name__ == \"__main__\":\n",
    "    print(\"Welcome to the Health Plan Multi-Agent System!\")\n",
    "    while True:\n",
    "        plan_name = input(\"Enter the name of a health plan (or 'exit' to quit): \").strip()\n",
    "        if not plan_name or plan_name.lower() == \"exit\":\n",
    "            break\n",
    "        result = orchestrate(plan_name)\n",
    "        print(json.dumps(result, indent=2))\n",
    "\n",
    "    # Cleanup: delete agents (optional, for resource management)\n",
    "    project.agents.delete_agent(search_agent.id)\n",
    "    project.agents.delete_agent(report_agent.id)\n",
    "    project.agents.delete_agent(validation_agent.id)\n",
    "    print(\"Agents deleted. Goodbye!\")"
   ]
  }
 ],
 "metadata": {
  "kernelspec": {
   "display_name": "venv",
   "language": "python",
   "name": "python3"
  },
  "language_info": {
   "codemirror_mode": {
    "name": "ipython",
    "version": 3
   },
   "file_extension": ".py",
   "mimetype": "text/x-python",
   "name": "python",
   "nbconvert_exporter": "python",
   "pygments_lexer": "ipython3",
   "version": "3.12.10"
  }
 },
 "nbformat": 4,
 "nbformat_minor": 2
}
