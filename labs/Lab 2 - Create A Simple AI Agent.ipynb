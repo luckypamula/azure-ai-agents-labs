{
 "cells": [
  {
   "cell_type": "markdown",
   "metadata": {},
   "source": [
    "# Lab 2: Create a Simple AI Agent\n",
    "\n",
    "In this lab, we'll introduce you to AI agents by creating a simple agent that will create a bar graph based on data that we give to it. "
   ]
  },
  {
   "cell_type": "markdown",
   "metadata": {},
   "source": [
    "#### Step 1: Load packages"
   ]
  },
  {
   "cell_type": "code",
   "execution_count": 7,
   "metadata": {},
   "outputs": [
    {
     "data": {
      "text/plain": [
       "True"
      ]
     },
     "execution_count": 7,
     "metadata": {},
     "output_type": "execute_result"
    }
   ],
   "source": [
    "import os\n",
    "from typing import Any\n",
    "from pathlib import Path\n",
    "from dotenv import load_dotenv\n",
    "from azure.ai.projects import AIProjectClient\n",
    "from azure.identity import DefaultAzureCredential\n",
    "from azure.ai.projects.models import CodeInterpreterTool\n",
    "\n",
    "load_dotenv() # Load environment variables from .env file"
   ]
  },
  {
   "cell_type": "markdown",
   "metadata": {},
   "source": [
    "#### Step 2: Connect to your Azure AI Foundry project"
   ]
  },
  {
   "cell_type": "code",
   "execution_count": 8,
   "metadata": {},
   "outputs": [],
   "source": [
    "# Connecting to our Azure AI Foundry project, which will allow us to use the deployed gpt-4o model\n",
    "project_connection_string = os.getenv(\"AIPROJECT_CONNECTION_STRING\")\n",
    "model = os.getenv(\"CHAT_MODEL\")\n",
    "\n",
    "project_client = AIProjectClient.from_connection_string(\n",
    "    conn_str=project_connection_string, credential=DefaultAzureCredential()\n",
    ")"
   ]
  },
  {
   "cell_type": "markdown",
   "metadata": {},
   "source": [
    "#### Step 3: Create the simple AI Agent"
   ]
  },
  {
   "cell_type": "code",
   "execution_count": 9,
   "metadata": {},
   "outputs": [
    {
     "name": "stdout",
     "output_type": "stream",
     "text": [
      "Created agent, agent ID: asst_AYDTQO8xe8bq0Aq3PFcOvsEM\n",
      "Created thread, thread ID: thread_1fmV8oW8ZT08fRIjwiQyE7jz\n",
      "Created message, message ID: msg_FOLH3FXrNkiaFiYJSmqr4RgO\n",
      "Run finished with status: RunStatus.COMPLETED\n",
      "Messages: {'object': 'list', 'data': [{'id': 'msg_JR5zyXUMpk48dv2Ru31jZBB4', 'object': 'thread.message', 'created_at': 1742314829, 'assistant_id': 'asst_AYDTQO8xe8bq0Aq3PFcOvsEM', 'thread_id': 'thread_1fmV8oW8ZT08fRIjwiQyE7jz', 'run_id': 'run_WZ15npiCiyoNxxyIUkSqHedA', 'role': 'assistant', 'content': [{'type': 'image_file', 'image_file': {'file_id': 'assistant-BzE1DMYqWDAsY44AFEMJb2'}}, {'type': 'text', 'text': {'value': 'The bar chart for the profit by country has been created and saved as \"finance-comparision.png\". You can download it using the link below:\\n\\n[Download finance-comparision.png](sandbox:/mnt/data/finance-comparision.png)', 'annotations': [{'type': 'file_path', 'text': 'sandbox:/mnt/data/finance-comparision.png', 'start_index': 175, 'end_index': 216, 'file_path': {'file_id': 'assistant-S2yT4d3BDXZNCyaBqBt5rN'}}]}}], 'attachments': [{'file_id': 'assistant-S2yT4d3BDXZNCyaBqBt5rN', 'tools': [{'type': 'code_interpreter'}]}], 'metadata': {}}, {'id': 'msg_FOLH3FXrNkiaFiYJSmqr4RgO', 'object': 'thread.message', 'created_at': 1742314811, 'assistant_id': None, 'thread_id': 'thread_1fmV8oW8ZT08fRIjwiQyE7jz', 'run_id': None, 'role': 'user', 'content': [{'type': 'text', 'text': {'value': 'Could you please create a bar chart for the using the following data and         provide the file to me? Name the file as finance-comparision.png.         Here is the data:   | Segment          | Country                  | Product   | Discount Band   |   Units Sold |   Manufacturing Price |   Sale Price |      Gross Sales |   Discounts |            Sales |     COGS |    Profit | Date                |   Month Number | Month Name   |   Year |\\n|:-----------------|:-------------------------|:----------|:----------------|-------------:|----------------------:|-------------:|-----------------:|------------:|-----------------:|---------:|----------:|:--------------------|---------------:|:-------------|-------:|\\n| Government       | Canada                   | Carretera | nan             |       1618.5 |                     3 |           20 |  32370           |       0     |  32370           |  16185   |  16185    | 2014-01-01 00:00:00 |              1 | January      |   2014 |\\n| Government       | Germany                  | Carretera | nan             |       1321   |                     3 |           20 |  26420           |       0     |  26420           |  13210   |  13210    | 2014-01-01 00:00:00 |              1 | January      |   2014 |\\n| Midmarket        | France                   | Carretera | nan             |       2178   |                     3 |           15 |  32670           |       0     |  32670           |  21780   |  10890    | 2014-06-01 00:00:00 |              6 | June         |   2014 |\\n| Midmarket        | Germany                  | Carretera | nan             |        888   |                     3 |           15 |  13320           |       0     |  13320           |   8880   |   4440    | 2014-06-01 00:00:00 |              6 | June         |   2014 |\\n| Midmarket        | Mexico                   | Carretera | nan             |       2470   |                     3 |           15 |  37050           |       0     |  37050           |  24700   |  12350    | 2014-06-01 00:00:00 |              6 | June         |   2014 |\\n| Government       | Germany                  | Carretera | nan             |       1513   |                     3 |          350 | 529550           |       0     | 529550           | 393380   | 136170    | 2014-12-01 00:00:00 |             12 | December     |   2014 |\\n    ', 'annotations': []}}], 'attachments': [], 'metadata': {}}], 'first_id': 'msg_JR5zyXUMpk48dv2Ru31jZBB4', 'last_id': 'msg_FOLH3FXrNkiaFiYJSmqr4RgO', 'has_more': False}\n",
      "Saved image file to: c:\\repo\\fsi-azure-ai-agents-lab\\Labs\\finance-comparision.png\n",
      "Deleted agent\n"
     ]
    }
   ],
   "source": [
    "with project_client:\n",
    "    # Create an instance of the CodeInterpreterTool, which is responsible for generating the bar chart\n",
    "    code_interpreter = CodeInterpreterTool()\n",
    "\n",
    "    # The CodeInterpreterTool needs to be included in creation of the agent so that it can be used\n",
    "    agent = project_client.agents.create_agent(\n",
    "        model=model,\n",
    "        name=\"my-agent-barchart\",\n",
    "        instructions=\"You are a helpful agent.\",\n",
    "        tools=code_interpreter.definitions,\n",
    "        tool_resources=code_interpreter.resources,\n",
    "    )\n",
    "    print(f\"Created agent, agent ID: {agent.id}\")\n",
    "\n",
    "    # Create a thread which is a conversation session between an agent and a user.\n",
    "    thread = project_client.agents.create_thread()\n",
    "    print(f\"Created thread, thread ID: {thread.id}\")\n",
    "\n",
    "    # Create a prompt which contains the data + details for how the agent should generate the bar chart\n",
    "    prompt = \"\"\"Could you please create a bar chart for the using the following data and \\\n",
    "        provide the file to me? Name the file as finance-comparision.png. \\\n",
    "        Here is the data: \\\n",
    "  | Segment          | Country                  | Product   | Discount Band   |   Units Sold |   Manufacturing Price |   Sale Price |      Gross Sales |   Discounts |            Sales |     COGS |    Profit | Date                |   Month Number | Month Name   |   Year |\n",
    "|:-----------------|:-------------------------|:----------|:----------------|-------------:|----------------------:|-------------:|-----------------:|------------:|-----------------:|---------:|----------:|:--------------------|---------------:|:-------------|-------:|\n",
    "| Government       | Canada                   | Carretera | nan             |       1618.5 |                     3 |           20 |  32370           |       0     |  32370           |  16185   |  16185    | 2014-01-01 00:00:00 |              1 | January      |   2014 |\n",
    "| Government       | Germany                  | Carretera | nan             |       1321   |                     3 |           20 |  26420           |       0     |  26420           |  13210   |  13210    | 2014-01-01 00:00:00 |              1 | January      |   2014 |\n",
    "| Midmarket        | France                   | Carretera | nan             |       2178   |                     3 |           15 |  32670           |       0     |  32670           |  21780   |  10890    | 2014-06-01 00:00:00 |              6 | June         |   2014 |\n",
    "| Midmarket        | Germany                  | Carretera | nan             |        888   |                     3 |           15 |  13320           |       0     |  13320           |   8880   |   4440    | 2014-06-01 00:00:00 |              6 | June         |   2014 |\n",
    "| Midmarket        | Mexico                   | Carretera | nan             |       2470   |                     3 |           15 |  37050           |       0     |  37050           |  24700   |  12350    | 2014-06-01 00:00:00 |              6 | June         |   2014 |\n",
    "| Government       | Germany                  | Carretera | nan             |       1513   |                     3 |          350 | 529550           |       0     | 529550           | 393380   | 136170    | 2014-12-01 00:00:00 |             12 | December     |   2014 |\n",
    "    \"\"\"\n",
    "    \n",
    "    # Create a message, with the prompt being the message content that is sent to the model\n",
    "    message = project_client.agents.create_message(\n",
    "        thread_id=thread.id,\n",
    "        role=\"user\",\n",
    "        content=prompt,\n",
    "    )\n",
    "    print(f\"Created message, message ID: {message.id}\")\n",
    "\n",
    "    # Run the agent to process tne message in the thread\n",
    "    run = project_client.agents.create_and_process_run(thread_id=thread.id, agent_id=agent.id)\n",
    "    print(f\"Run finished with status: {run.status}\")\n",
    "\n",
    "    if run.status == \"failed\":\n",
    "        # Check if you got \"Rate limit is exceeded.\", then you want to increase the token limit\n",
    "        print(f\"Run failed: {run.last_error}\")\n",
    "\n",
    "    # Get all messages from the thread\n",
    "    messages = project_client.agents.list_messages(thread_id=thread.id)\n",
    "    print(f\"Messages: {messages}\")\n",
    "\n",
    "    #create output directory if it doesn't exist\n",
    "    output_dir = Path.cwd() / \"output\"\n",
    "    output_dir.mkdir(parents=True, exist_ok=True)\n",
    "\n",
    "    # Generate an image file for the bar chart\n",
    "    for file_path_annotation in messages.file_path_annotations:\n",
    "        file_name = Path(file_path_annotation.text).name\n",
    "        project_client.agents.save_file(file_id=file_path_annotation.file_path.file_id, file_name=file_name, target_dir=output_dir)\n",
    "        print(f\"Saved image file to: {Path.cwd() / \"output\" / file_name}\")\n",
    "\n",
    "    # Delete the agent once done\n",
    "    project_client.agents.delete_agent(agent.id)\n",
    "    print(\"Deleted agent\")"
   ]
  },
  {
   "cell_type": "code",
   "execution_count": null,
   "metadata": {},
   "outputs": [],
   "source": []
  }
 ],
 "metadata": {
  "kernelspec": {
   "display_name": "oai",
   "language": "python",
   "name": "python3"
  },
  "language_info": {
   "codemirror_mode": {
    "name": "ipython",
    "version": 3
   },
   "file_extension": ".py",
   "mimetype": "text/x-python",
   "name": "python",
   "nbconvert_exporter": "python",
   "pygments_lexer": "ipython3",
   "version": "3.12.9"
  }
 },
 "nbformat": 4,
 "nbformat_minor": 2
}
